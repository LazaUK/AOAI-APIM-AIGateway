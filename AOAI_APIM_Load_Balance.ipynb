{
 "cells": [
  {
   "cell_type": "markdown",
   "metadata": {},
   "source": [
    "# API-M's AI Gateway: Azure OpenAI load-balancing\n",
    "\n",
    "This notebook explores the use of circuit-breaking and load balancing between two AOAI endpoints."
   ]
  },
  {
   "cell_type": "markdown",
   "metadata": {},
   "source": [
    "### Setting up environment"
   ]
  },
  {
   "cell_type": "code",
   "execution_count": 1,
   "metadata": {},
   "outputs": [],
   "source": [
    "# Importing required packages\n",
    "import requests\n",
    "import time\n",
    "import os"
   ]
  },
  {
   "cell_type": "code",
   "execution_count": 2,
   "metadata": {},
   "outputs": [],
   "source": [
    "# Extracting environment variables\n",
    "APIM_LB_URL = os.getenv(\"APIM_LB_URL\")\n",
    "APIM_LB_SUB_KEY = os.getenv(\"APIM_LB_SUB_KEY\")\n",
    "AOAI_API_VERSION = os.getenv(\"APIM_LB_API_VERSION\")\n",
    "AOAI_DEPLOYMENT = os.getenv(\"APIM_LB_AOAI_DEPLOY\")"
   ]
  },
  {
   "cell_type": "code",
   "execution_count": 3,
   "metadata": {},
   "outputs": [],
   "source": [
    "# Defining custom variables\n",
    "SYSTEM_PROMPT = \"You are a standup comedian.\"\n",
    "USER_PROMPT = \"Tell me a joke about red panda.\"\n",
    "NUMBER_OF_RUNS = 10\n",
    "SLEEP_TIME = 2\n",
    "TEMPERATURE = 0.7\n",
    "MAX_TOKENS = 200"
   ]
  },
  {
   "cell_type": "markdown",
   "metadata": {},
   "source": [
    "### API-M load-balance testing with REST request"
   ]
  },
  {
   "cell_type": "code",
   "execution_count": 4,
   "metadata": {},
   "outputs": [],
   "source": [
    "# Helper function for REST API call\n",
    "def get_rest_completion(subscription_key, system_prompt, user_prompt):\n",
    "    response = requests.post(\n",
    "        url = f\"{APIM_LB_URL}openai/deployments/{AOAI_DEPLOYMENT}/chat/completions\",\n",
    "        headers = {\n",
    "            \"Content-Type\": \"application/json\",\n",
    "            \"api-key\": subscription_key\n",
    "        },\n",
    "        params={'api-version': AOAI_API_VERSION},\n",
    "        json = {\n",
    "            \"messages\": [\n",
    "                {\n",
    "                   \"role\": \"system\",\n",
    "                    \"content\": system_prompt\n",
    "                },\n",
    "                {\n",
    "                    \"role\": \"user\",\n",
    "                    \"content\": user_prompt\n",
    "                }\n",
    "            ],\n",
    "        \"temperature\": TEMPERATURE,\n",
    "        \"max_tokens\": MAX_TOKENS\n",
    "        }\n",
    "    )\n",
    "    return response"
   ]
  },
  {
   "cell_type": "code",
   "execution_count": 5,
   "metadata": {},
   "outputs": [
    {
     "name": "stdout",
     "output_type": "stream",
     "text": [
      "Run # 0: Sweden Central, Duration: 0.93, Response Code: 200\n",
      "Pausing for 2 seconds...\n",
      "Run # 1: None, Duration: 1.36, Response Code: 503\n",
      "Pausing for 2 seconds...\n",
      "Run # 2: France Central, Duration: 2.95, Response Code: 200\n",
      "Pausing for 2 seconds...\n",
      "Run # 3: France Central, Duration: 2.33, Response Code: 200\n",
      "Pausing for 2 seconds...\n",
      "Run # 4: France Central, Duration: 3.14, Response Code: 200\n",
      "Pausing for 2 seconds...\n",
      "Run # 5: France Central, Duration: 3.01, Response Code: 200\n",
      "Pausing for 2 seconds...\n",
      "Run # 6: France Central, Duration: 5.98, Response Code: 200\n",
      "Pausing for 2 seconds...\n",
      "Run # 7: Sweden Central, Duration: 0.86, Response Code: 200\n",
      "Pausing for 2 seconds...\n",
      "Run # 8: None, Duration: 1.27, Response Code: 503\n",
      "Pausing for 2 seconds...\n",
      "Run # 9: France Central, Duration: 4.35, Response Code: 200\n",
      "-----------------------------\n"
     ]
    }
   ],
   "source": [
    "# Testing load-balancing with REST API\n",
    "for i in range(NUMBER_OF_RUNS):    \n",
    "    start_time = time.time()\n",
    "    response = get_rest_completion(\n",
    "        subscription_key = APIM_LB_SUB_KEY,\n",
    "        system_prompt = SYSTEM_PROMPT,\n",
    "        user_prompt = USER_PROMPT\n",
    "    )\n",
    "    end_time = time.time()\n",
    "    region = response.headers['x-ms-region'] if 'x-ms-region' in response.headers else None\n",
    "    print(f\"Run # {i}: {region}, Duration: {end_time - start_time:.2f}, Response Code: {response.status_code}\")\n",
    "\n",
    "    if i < NUMBER_OF_RUNS - 1:\n",
    "        print(f\"Pausing for {SLEEP_TIME} seconds...\")\n",
    "        time.sleep(SLEEP_TIME)\n",
    "print(\"-----------------------------\")"
   ]
  }
 ],
 "metadata": {
  "kernelspec": {
   "display_name": "Python 3",
   "language": "python",
   "name": "python3"
  },
  "language_info": {
   "codemirror_mode": {
    "name": "ipython",
    "version": 3
   },
   "file_extension": ".py",
   "mimetype": "text/x-python",
   "name": "python",
   "nbconvert_exporter": "python",
   "pygments_lexer": "ipython3",
   "version": "3.11.9"
  }
 },
 "nbformat": 4,
 "nbformat_minor": 2
}
