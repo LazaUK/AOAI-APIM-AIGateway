{
 "cells": [
  {
   "cell_type": "markdown",
   "metadata": {},
   "source": [
    "# Azure API-Management's AI Gateway for Azure OpenAI\n",
    "\n",
    "This notebook explores the usage analysis by subscription."
   ]
  },
  {
   "cell_type": "markdown",
   "metadata": {},
   "source": [
    "### Setting up environment"
   ]
  },
  {
   "cell_type": "code",
   "execution_count": 1,
   "metadata": {},
   "outputs": [],
   "source": [
    "# Importing required packages\n",
    "from openai import AzureOpenAI\n",
    "import requests\n",
    "import random\n",
    "import time\n",
    "import os"
   ]
  },
  {
   "cell_type": "code",
   "execution_count": 2,
   "metadata": {},
   "outputs": [],
   "source": [
    "# Extracting environment variables\n",
    "APIM_USAGE_URL = os.getenv(\"APIM_USAGE_URL\")\n",
    "SUBSCRIPTION_KEYS = [\n",
    "    os.getenv(\"APIM_USAGE_KEY_CONTOSO\"),\n",
    "    os.getenv(\"APIM_USAGE_KEY_NORTHWIND\")\n",
    "]\n",
    "AOAI_API_VERSION = os.getenv(\"APIM_USAGE_API_VERSION\")\n",
    "AOAI_DEPLOYMENT = os.getenv(\"APIM_USAGE_AOAI_DEPLOY\")"
   ]
  },
  {
   "cell_type": "code",
   "execution_count": 3,
   "metadata": {},
   "outputs": [],
   "source": [
    "# Defining custom variables\n",
    "SYSTEM_PROMPT = \"You are a standup comedian.\"\n",
    "USER_PROMPT = \"Tell me a joke about red panda.\"\n",
    "NUMBER_OF_RUNS = 15\n",
    "SLEEP_TIME = 1\n",
    "TEMPERATURE = 0.7"
   ]
  },
  {
   "cell_type": "markdown",
   "metadata": {},
   "source": [
    "### API-M usage generation with REST request"
   ]
  },
  {
   "cell_type": "code",
   "execution_count": 4,
   "metadata": {},
   "outputs": [],
   "source": [
    "# Helper function for REST API call\n",
    "def get_rest_completion(subscription_key, system_prompt, user_prompt):\n",
    "    response = requests.post(\n",
    "        url = f\"{APIM_USAGE_URL}openai/deployments/{AOAI_DEPLOYMENT}/chat/completions\",\n",
    "        headers = {\n",
    "            \"Content-Type\": \"application/json\",\n",
    "            \"api-key\": subscription_key\n",
    "        },\n",
    "        params={'api-version': AOAI_API_VERSION},\n",
    "        json = {\n",
    "            \"messages\": [\n",
    "                {\n",
    "                   \"role\": \"system\",\n",
    "                    \"content\": system_prompt\n",
    "                },\n",
    "                {\n",
    "                    \"role\": \"user\",\n",
    "                    \"content\": user_prompt\n",
    "                }\n",
    "            ],\n",
    "        \"temperature\": TEMPERATURE\n",
    "        }\n",
    "    )\n",
    "    return response"
   ]
  },
  {
   "cell_type": "code",
   "execution_count": 5,
   "metadata": {},
   "outputs": [
    {
     "name": "stdout",
     "output_type": "stream",
     "text": [
      "Run # 0 completed in 1.07 seconds with response code 200\n",
      "Pausing for 1 seconds...\n",
      "Run # 1 completed in 0.73 seconds with response code 200\n",
      "Pausing for 1 seconds...\n",
      "Run # 2 completed in 0.67 seconds with response code 200\n",
      "Pausing for 1 seconds...\n",
      "Run # 3 completed in 0.70 seconds with response code 200\n",
      "Pausing for 1 seconds...\n",
      "Run # 4 completed in 0.91 seconds with response code 200\n",
      "Pausing for 1 seconds...\n",
      "Run # 5 completed in 0.83 seconds with response code 200\n",
      "Pausing for 1 seconds...\n",
      "Run # 6 completed in 0.78 seconds with response code 200\n",
      "Pausing for 1 seconds...\n",
      "Run # 7 completed in 0.76 seconds with response code 200\n",
      "Pausing for 1 seconds...\n",
      "Run # 8 completed in 0.67 seconds with response code 200\n",
      "Pausing for 1 seconds...\n",
      "Run # 9 completed in 0.68 seconds with response code 200\n",
      "Pausing for 1 seconds...\n",
      "Run # 10 completed in 0.71 seconds with response code 200\n",
      "Pausing for 1 seconds...\n",
      "Run # 11 completed in 1.89 seconds with response code 200\n",
      "Pausing for 1 seconds...\n",
      "-----------------------------\n",
      "Run # 0 completed in 0.88 seconds with response code 200\n",
      "Pausing for 1 seconds...\n",
      "Run # 1 completed in 0.69 seconds with response code 200\n",
      "Pausing for 1 seconds...\n",
      "Run # 2 completed in 0.64 seconds with response code 200\n",
      "Pausing for 1 seconds...\n",
      "Run # 3 completed in 0.70 seconds with response code 200\n",
      "Pausing for 1 seconds...\n",
      "Run # 4 completed in 0.70 seconds with response code 200\n",
      "Pausing for 1 seconds...\n",
      "Run # 5 completed in 0.73 seconds with response code 200\n",
      "Pausing for 1 seconds...\n",
      "Run # 6 completed in 0.80 seconds with response code 200\n",
      "Pausing for 1 seconds...\n",
      "Run # 7 completed in 0.72 seconds with response code 200\n",
      "Pausing for 1 seconds...\n",
      "Run # 8 completed in 0.65 seconds with response code 200\n",
      "Pausing for 1 seconds...\n",
      "Run # 9 completed in 0.71 seconds with response code 200\n",
      "Pausing for 1 seconds...\n",
      "Run # 10 completed in 0.78 seconds with response code 200\n",
      "Pausing for 1 seconds...\n",
      "-----------------------------\n"
     ]
    }
   ],
   "source": [
    "# Generating usage with REST API\n",
    "for key in SUBSCRIPTION_KEYS:\n",
    "    randomness = random.randint(0, 5)\n",
    "    for i in range(NUMBER_OF_RUNS - randomness):    \n",
    "        start_time = time.time()\n",
    "        response = get_rest_completion(subscription_key=key, system_prompt=SYSTEM_PROMPT, user_prompt=USER_PROMPT)\n",
    "        end_time = time.time()\n",
    "        print(f\"Run # {i} completed in {end_time - start_time:.2f} seconds with response code {response.status_code}\")\n",
    "    \n",
    "        if i < NUMBER_OF_RUNS - 1:\n",
    "            print(f\"Pausing for {SLEEP_TIME} seconds...\")\n",
    "            time.sleep(SLEEP_TIME)\n",
    "    print(\"-----------------------------\")"
   ]
  },
  {
   "cell_type": "markdown",
   "metadata": {},
   "source": [
    "### API-M usage generation with OpenAI SDK v1"
   ]
  },
  {
   "cell_type": "code",
   "execution_count": 6,
   "metadata": {},
   "outputs": [],
   "source": [
    "# Initiating array of Azure OpenAI clients\n",
    "aoai_clients = []\n",
    "for key in SUBSCRIPTION_KEYS:\n",
    "    client = AzureOpenAI(\n",
    "        azure_endpoint = APIM_USAGE_URL,\n",
    "        api_key = key,\n",
    "        api_version = AOAI_API_VERSION\n",
    "    )\n",
    "    aoai_clients.append(client)"
   ]
  },
  {
   "cell_type": "code",
   "execution_count": 7,
   "metadata": {},
   "outputs": [],
   "source": [
    "# Helper function for SDK call\n",
    "def get_sdk_completion(aoai_client, system_prompt, user_prompt):\n",
    "    messages = [\n",
    "        {\"role\": \"system\", \"content\": system_prompt},\n",
    "        {\"role\": \"user\", \"content\": user_prompt}\n",
    "    ]\n",
    "\n",
    "    response = aoai_client.chat.completions.create(\n",
    "        model = AOAI_DEPLOYMENT,\n",
    "        messages = messages,\n",
    "        temperature = TEMPERATURE\n",
    "    )\n",
    "    return response"
   ]
  },
  {
   "cell_type": "code",
   "execution_count": 8,
   "metadata": {},
   "outputs": [
    {
     "name": "stdout",
     "output_type": "stream",
     "text": [
      "Run # 0 completed in 0.72 seconds\n",
      "Pausing for 1 seconds...\n",
      "Run # 1 completed in 0.49 seconds\n",
      "Pausing for 1 seconds...\n",
      "Run # 2 completed in 0.60 seconds\n",
      "Pausing for 1 seconds...\n",
      "Run # 3 completed in 0.49 seconds\n",
      "Pausing for 1 seconds...\n",
      "Run # 4 completed in 0.90 seconds\n",
      "Pausing for 1 seconds...\n",
      "Run # 5 completed in 0.52 seconds\n",
      "Pausing for 1 seconds...\n",
      "Run # 6 completed in 0.61 seconds\n",
      "Pausing for 1 seconds...\n",
      "Run # 7 completed in 0.64 seconds\n",
      "Pausing for 1 seconds...\n",
      "Run # 8 completed in 0.50 seconds\n",
      "Pausing for 1 seconds...\n",
      "Run # 9 completed in 0.56 seconds\n",
      "Pausing for 1 seconds...\n",
      "Run # 10 completed in 0.51 seconds\n",
      "Pausing for 1 seconds...\n",
      "Run # 11 completed in 0.52 seconds\n",
      "Pausing for 1 seconds...\n",
      "-----------------------------\n",
      "Run # 0 completed in 0.68 seconds\n",
      "Pausing for 1 seconds...\n",
      "Run # 1 completed in 0.50 seconds\n",
      "Pausing for 1 seconds...\n",
      "Run # 2 completed in 0.49 seconds\n",
      "Pausing for 1 seconds...\n",
      "Run # 3 completed in 0.57 seconds\n",
      "Pausing for 1 seconds...\n",
      "Run # 4 completed in 0.50 seconds\n",
      "Pausing for 1 seconds...\n",
      "Run # 5 completed in 1.30 seconds\n",
      "Pausing for 1 seconds...\n",
      "Run # 6 completed in 0.67 seconds\n",
      "Pausing for 1 seconds...\n",
      "Run # 7 completed in 0.53 seconds\n",
      "Pausing for 1 seconds...\n",
      "Run # 8 completed in 0.50 seconds\n",
      "Pausing for 1 seconds...\n",
      "Run # 9 completed in 0.47 seconds\n",
      "Pausing for 1 seconds...\n",
      "Run # 10 completed in 0.53 seconds\n",
      "Pausing for 1 seconds...\n",
      "Run # 11 completed in 0.46 seconds\n",
      "Pausing for 1 seconds...\n",
      "-----------------------------\n"
     ]
    }
   ],
   "source": [
    "# Generating usage with SDK\n",
    "for client in aoai_clients:\n",
    "    randomness = random.randint(0, 5)\n",
    "    for i in range(NUMBER_OF_RUNS - randomness):\n",
    "        start_time = time.time()\n",
    "        response = get_sdk_completion(aoai_client=client, system_prompt=SYSTEM_PROMPT, user_prompt=USER_PROMPT)\n",
    "        end_time = time.time()\n",
    "        print(f\"Run # {i} completed in {end_time - start_time:.2f} seconds\")\n",
    "    \n",
    "        if i < NUMBER_OF_RUNS - 1:\n",
    "            print(f\"Pausing for {SLEEP_TIME} seconds...\")\n",
    "            time.sleep(SLEEP_TIME)\n",
    "    print(\"-----------------------------\")"
   ]
  }
 ],
 "metadata": {
  "kernelspec": {
   "display_name": "Python 3",
   "language": "python",
   "name": "python3"
  },
  "language_info": {
   "codemirror_mode": {
    "name": "ipython",
    "version": 3
   },
   "file_extension": ".py",
   "mimetype": "text/x-python",
   "name": "python",
   "nbconvert_exporter": "python",
   "pygments_lexer": "ipython3",
   "version": "3.11.9"
  }
 },
 "nbformat": 4,
 "nbformat_minor": 2
}
