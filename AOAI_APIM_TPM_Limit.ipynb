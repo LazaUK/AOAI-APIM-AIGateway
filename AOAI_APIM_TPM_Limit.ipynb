{
 "cells": [
  {
   "cell_type": "markdown",
   "metadata": {},
   "source": [
    "# Azure API-Management's AI Gateway for Azure OpenAI"
   ]
  },
  {
   "cell_type": "markdown",
   "metadata": {},
   "source": [
    "### Setting up environment"
   ]
  },
  {
   "cell_type": "code",
   "execution_count": 1,
   "metadata": {},
   "outputs": [],
   "source": [
    "# Importing required packages\n",
    "from openai import AzureOpenAI\n",
    "import requests\n",
    "import os"
   ]
  },
  {
   "cell_type": "code",
   "execution_count": 2,
   "metadata": {},
   "outputs": [],
   "source": [
    "# Extracting environment variables\n",
    "APIM_TPM_URL = os.getenv(\"APIM_TPM_URL\")\n",
    "APIM_TPM_SUB_KEY = os.getenv(\"APIM_TPM_SUB_KEY\")\n",
    "AOAI_API_VERSION = os.getenv(\"AZURE_OPENAI_API_VERSION\")\n",
    "AOAI_DEPLOYMENT = os.getenv(\"AZURE_OPENAI_API_DEPLOY\")"
   ]
  },
  {
   "cell_type": "markdown",
   "metadata": {},
   "source": [
    "### Testing API-M endpoint with REST request"
   ]
  },
  {
   "cell_type": "code",
   "execution_count": 3,
   "metadata": {},
   "outputs": [
    {
     "name": "stdout",
     "output_type": "stream",
     "text": [
      "https://laziz-apim-sw.azure-api.net/aoai-tpm-limit/openai/deployments/laziz_swc_gpt4o/chat/completions?api-version=2024-05-01-preview\n"
     ]
    }
   ],
   "source": [
    "# Checking URL construction\n",
    "url = f\"{APIM_TPM_URL}openai/deployments/{AOAI_DEPLOYMENT}/chat/completions?api-version={AOAI_API_VERSION}\"\n",
    "print(url)"
   ]
  },
  {
   "cell_type": "code",
   "execution_count": 44,
   "metadata": {},
   "outputs": [
    {
     "name": "stdout",
     "output_type": "stream",
     "text": [
      "b'{ \"statusCode\": 429, \"message\": \"Token limit is exceeded. Try again in 33 seconds.\" }'\n"
     ]
    }
   ],
   "source": [
    "response = requests.post(\n",
    "    url = f\"{APIM_TPM_URL}openai/deployments/{AOAI_DEPLOYMENT}/chat/completions\",\n",
    "    headers = {\n",
    "        \"Content-Type\": \"application/json\",\n",
    "        \"api-key\": APIM_TPM_SUB_KEY\n",
    "    },\n",
    "    # params={'api-version': AOAI_API_VERSION},\n",
    "    params = {'api-version': '2024-02-01'},\n",
    "    json = {\n",
    "        \"messages\": [\n",
    "            {\n",
    "               \"role\": \"system\",\n",
    "                \"content\": \"You are a standup comedian.\"\n",
    "            },\n",
    "            {\n",
    "                \"role\": \"user\",\n",
    "                \"content\": \"Tell me a joke about red panda.\"\n",
    "            }\n",
    "        ],\n",
    "    \"temperature\": 0.7\n",
    "    }\n",
    ")\n",
    "\n",
    "if response.status_code == 200:\n",
    "    print(f\"Consumed tokens: {response.headers['consumed-tokens']}\")\n",
    "    print(f\"Remaining tokens: {response.headers['remaining-tokens']}\")\n",
    "print(response.content)"
   ]
  },
  {
   "cell_type": "markdown",
   "metadata": {},
   "source": [
    "### Testing API-M endpoint with OpenAI SDK v1"
   ]
  },
  {
   "cell_type": "code",
   "execution_count": 9,
   "metadata": {},
   "outputs": [],
   "source": [
    "# Initiating Azure OpenAI client\n",
    "client = AzureOpenAI(\n",
    "    azure_endpoint = APIM_TPM_URL,\n",
    "    api_key = APIM_TPM_SUB_KEY,\n",
    "    api_version = AOAI_API_VERSION\n",
    ")"
   ]
  },
  {
   "cell_type": "code",
   "execution_count": 10,
   "metadata": {},
   "outputs": [],
   "source": [
    "# Helper function\n",
    "def get_completion(system_prompt, prompt):\n",
    "    messages = [\n",
    "        {\"role\": \"system\", \"content\": system_prompt},\n",
    "        {\"role\": \"user\", \"content\": prompt}\n",
    "    ]\n",
    "\n",
    "    response = client.chat.completions.create(\n",
    "        model = AOAI_DEPLOYMENT, # model = \"Azure OpenAI deployment name\".\n",
    "        messages = messages\n",
    "    )\n",
    "    return response"
   ]
  },
  {
   "cell_type": "code",
   "execution_count": 45,
   "metadata": {},
   "outputs": [
    {
     "name": "stdout",
     "output_type": "stream",
     "text": [
      "Sure, here's one for you:\n",
      "\n",
      "Why don't red pandas ever use computers?\n",
      "\n",
      "Because they can't find the \"paws\" button!\n"
     ]
    }
   ],
   "source": [
    "# Testing context limit of GPT-4-Turbo v2024-04-09\n",
    "system_prompt = \"You are a standup comedian.\"\n",
    "user_prompt = \"Tell me a joke about red panda.\"\n",
    "response = get_completion(system_prompt, user_prompt)\n",
    "\n",
    "result = response.choices[0].message.content\n",
    "print(result)"
   ]
  }
 ],
 "metadata": {
  "kernelspec": {
   "display_name": "Python 3",
   "language": "python",
   "name": "python3"
  },
  "language_info": {
   "codemirror_mode": {
    "name": "ipython",
    "version": 3
   },
   "file_extension": ".py",
   "mimetype": "text/x-python",
   "name": "python",
   "nbconvert_exporter": "python",
   "pygments_lexer": "ipython3",
   "version": "3.11.9"
  }
 },
 "nbformat": 4,
 "nbformat_minor": 2
}
